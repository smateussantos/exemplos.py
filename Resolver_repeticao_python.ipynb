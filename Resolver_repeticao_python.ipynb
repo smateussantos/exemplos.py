{
  "nbformat": 4,
  "nbformat_minor": 0,
  "metadata": {
    "colab": {
      "provenance": [],
      "authorship_tag": "ABX9TyN6kGxW6KnkQd4i3wZiMMka",
      "include_colab_link": true
    },
    "kernelspec": {
      "name": "python3",
      "display_name": "Python 3"
    },
    "language_info": {
      "name": "python"
    }
  },
  "cells": [
    {
      "cell_type": "markdown",
      "metadata": {
        "id": "view-in-github",
        "colab_type": "text"
      },
      "source": [
        "<a href=\"https://colab.research.google.com/github/smateussantos/exemplos.py/blob/main/Resolver_repeticao_python.ipynb\" target=\"_parent\"><img src=\"https://colab.research.google.com/assets/colab-badge.svg\" alt=\"Open In Colab\"/></a>"
      ]
    },
    {
      "cell_type": "code",
      "execution_count": null,
      "metadata": {
        "colab": {
          "base_uri": "https://localhost:8080/"
        },
        "id": "A7UqCXProNyK",
        "outputId": "e61e4a8c-d155-40f9-ac4e-bced81c0e805"
      },
      "outputs": [
        {
          "output_type": "stream",
          "name": "stdout",
          "text": [
            "9\n",
            "17\n",
            "3\n"
          ]
        }
      ],
      "source": [
        "a = 4\n",
        "b = 5\n",
        "s = a + b\n",
        "print (s)\n",
        "a = 8\n",
        "b = 9\n",
        "s = a + b\n",
        "print (s)\n",
        "a = 1\n",
        "b = 2\n",
        "s = a + b\n",
        "print (s)"
      ]
    },
    {
      "cell_type": "markdown",
      "source": [
        "RESOLVER QUALQUER REPETIÇÃO"
      ],
      "metadata": {
        "id": "J_INf7I-rvWc"
      }
    },
    {
      "cell_type": "code",
      "source": [
        "#Programa Principal\n",
        "def soma(a , b):\n",
        "    s = a + b\n",
        "    print(s)\n",
        "\n",
        "soma (4 , 5)\n",
        "soma (8 , 9)\n",
        "soma (2 , 1)"
      ],
      "metadata": {
        "colab": {
          "base_uri": "https://localhost:8080/"
        },
        "id": "aa_nG4M9p-z8",
        "outputId": "d316fd7a-0199-4687-c69f-74d4e8739b3d"
      },
      "execution_count": null,
      "outputs": [
        {
          "output_type": "stream",
          "name": "stdout",
          "text": [
            "9\n",
            "17\n",
            "3\n"
          ]
        }
      ]
    },
    {
      "cell_type": "code",
      "source": [
        "def multiplica(a , b):\n",
        "    s = a * b\n",
        "    print(s)\n",
        "\n",
        "multiplica (4 , 5)\n",
        "multiplica(8 , 9)\n",
        "multiplica (2 , 1)"
      ],
      "metadata": {
        "colab": {
          "base_uri": "https://localhost:8080/"
        },
        "id": "QeyVIq2ZsIRS",
        "outputId": "54e17371-edbe-467e-f010-a816f91d8383"
      },
      "execution_count": null,
      "outputs": [
        {
          "output_type": "stream",
          "name": "stdout",
          "text": [
            "20\n",
            "72\n",
            "2\n"
          ]
        }
      ]
    },
    {
      "cell_type": "code",
      "source": [
        "def soma(a , b):\n",
        "    print(f'A = {a} e B = {b}')\n",
        "    s = a + b\n",
        "    print(f'A soma A + B = {s}')\n",
        "\n",
        "    #Programa Principal\n",
        "soma(b=4, a=5)\n",
        "soma(b=30, a=5)"
      ],
      "metadata": {
        "colab": {
          "base_uri": "https://localhost:8080/"
        },
        "id": "FAtIUv0vTqXE",
        "outputId": "4019a896-c92a-4304-cfef-063e6f60fdd2"
      },
      "execution_count": 13,
      "outputs": [
        {
          "output_type": "stream",
          "name": "stdout",
          "text": [
            "A = 5 e B = 4\n",
            "A soma A + B = 9\n",
            "A = 5 e B = 30\n",
            "A soma A + B = 35\n"
          ]
        }
      ]
    },
    {
      "cell_type": "markdown",
      "source": [
        "# Contador"
      ],
      "metadata": {
        "id": "pmIZnrd_WRYd"
      }
    },
    {
      "cell_type": "code",
      "source": [
        "def contador (* num):\n",
        "    tam = len(num)\n",
        "    print(f' Recebi os valores {num} e são ao todo {tam} números ' )\n",
        "\n",
        "contador(2, 1, 7)\n",
        "contador(8, 0)\n",
        "contador(4, 4, 7, 6, 2)"
      ],
      "metadata": {
        "colab": {
          "base_uri": "https://localhost:8080/"
        },
        "id": "t-Ix2prXWWS5",
        "outputId": "6729d56f-564d-4227-c3f9-06f9e327b0cd"
      },
      "execution_count": 14,
      "outputs": [
        {
          "output_type": "stream",
          "name": "stdout",
          "text": [
            " Recebi os valores (2, 1, 7) e são ao todo 3 números \n",
            " Recebi os valores (8, 0) e são ao todo 2 números \n",
            " Recebi os valores (4, 4, 7, 6, 2) e são ao todo 5 números \n"
          ]
        }
      ]
    },
    {
      "cell_type": "markdown",
      "source": [
        "## Dobra Valor"
      ],
      "metadata": {
        "id": "PEcMaDeGYDP6"
      }
    },
    {
      "cell_type": "code",
      "source": [
        "def dobra(list):\n",
        "    pos =  0\n",
        "    while pos < len(list):\n",
        "        list[pos] *=2\n",
        "        pos +=1\n",
        "\n",
        "\n",
        "valores = [6, 3, 5, 5, 4]\n",
        "dobra(valores)\n",
        "print(valores)"
      ],
      "metadata": {
        "colab": {
          "base_uri": "https://localhost:8080/"
        },
        "id": "G2knagzRYf0t",
        "outputId": "1980a3df-e9ff-4732-e3b4-8fa8df8f4e16"
      },
      "execution_count": 25,
      "outputs": [
        {
          "output_type": "stream",
          "name": "stdout",
          "text": [
            "[12, 6, 10, 10, 8]\n"
          ]
        }
      ]
    },
    {
      "cell_type": "code",
      "source": [
        "def soma(*valores):\n",
        "    s =  0\n",
        "    for num in valores:\n",
        "        s += num\n",
        "    print(f'Somando os valores {valores} temos {s}')\n",
        "\n",
        "\n",
        "soma(5, 2)\n",
        "soma(2, 9, 4)"
      ],
      "metadata": {
        "colab": {
          "base_uri": "https://localhost:8080/"
        },
        "id": "EUQZsCSeanSw",
        "outputId": "3caac8ce-9737-4af7-affe-d2322fa4d80e"
      },
      "execution_count": 27,
      "outputs": [
        {
          "output_type": "stream",
          "name": "stdout",
          "text": [
            "Somando os valores (5, 2) temos 7\n",
            "Somando os valores (2, 9, 4) temos 15\n"
          ]
        }
      ]
    }
  ]
}